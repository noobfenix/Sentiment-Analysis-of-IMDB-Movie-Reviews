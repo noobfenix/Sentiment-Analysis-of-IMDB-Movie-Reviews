{
 "cells": [
  {
   "cell_type": "code",
   "execution_count": 7,
   "metadata": {},
   "outputs": [],
   "source": [
    "import numpy as np\n",
    "import tensorflow as tf\n",
    "from tensorflow.keras.datasets import imdb\n",
    "from tensorflow.keras.preprocessing import sequence\n",
    "from tensorflow.keras.models import load_model\n"
   ]
  },
  {
   "cell_type": "code",
   "execution_count": 8,
   "metadata": {},
   "outputs": [],
   "source": [
    "word_index = imdb.get_word_index()\n",
    "reverse_word_index = {value: key for key, value in word_index.items()}"
   ]
  },
  {
   "cell_type": "code",
   "execution_count": 10,
   "metadata": {},
   "outputs": [
    {
     "name": "stderr",
     "output_type": "stream",
     "text": [
      "WARNING:absl:Compiled the loaded model, but the compiled metrics have yet to be built. `model.compile_metrics` will be empty until you train or evaluate the model.\n"
     ]
    },
    {
     "data": {
      "text/html": [
       "<pre style=\"white-space:pre;overflow-x:auto;line-height:normal;font-family:Menlo,'DejaVu Sans Mono',consolas,'Courier New',monospace\"><span style=\"font-weight: bold\">Model: \"sequential\"</span>\n",
       "</pre>\n"
      ],
      "text/plain": [
       "\u001b[1mModel: \"sequential\"\u001b[0m\n"
      ]
     },
     "metadata": {},
     "output_type": "display_data"
    },
    {
     "data": {
      "text/html": [
       "<pre style=\"white-space:pre;overflow-x:auto;line-height:normal;font-family:Menlo,'DejaVu Sans Mono',consolas,'Courier New',monospace\">┏━━━━━━━━━━━━━━━━━━━━━━━━━━━━━━━━━┳━━━━━━━━━━━━━━━━━━━━━━━━┳━━━━━━━━━━━━━━━┓\n",
       "┃<span style=\"font-weight: bold\"> Layer (type)                    </span>┃<span style=\"font-weight: bold\"> Output Shape           </span>┃<span style=\"font-weight: bold\">       Param # </span>┃\n",
       "┡━━━━━━━━━━━━━━━━━━━━━━━━━━━━━━━━━╇━━━━━━━━━━━━━━━━━━━━━━━━╇━━━━━━━━━━━━━━━┩\n",
       "│ embedding (<span style=\"color: #0087ff; text-decoration-color: #0087ff\">Embedding</span>)           │ (<span style=\"color: #00d7ff; text-decoration-color: #00d7ff\">None</span>, <span style=\"color: #00af00; text-decoration-color: #00af00\">500</span>, <span style=\"color: #00af00; text-decoration-color: #00af00\">128</span>)       │     <span style=\"color: #00af00; text-decoration-color: #00af00\">1,280,000</span> │\n",
       "├─────────────────────────────────┼────────────────────────┼───────────────┤\n",
       "│ simple_rnn (<span style=\"color: #0087ff; text-decoration-color: #0087ff\">SimpleRNN</span>)          │ (<span style=\"color: #00d7ff; text-decoration-color: #00d7ff\">None</span>, <span style=\"color: #00af00; text-decoration-color: #00af00\">128</span>)            │        <span style=\"color: #00af00; text-decoration-color: #00af00\">32,896</span> │\n",
       "├─────────────────────────────────┼────────────────────────┼───────────────┤\n",
       "│ dense (<span style=\"color: #0087ff; text-decoration-color: #0087ff\">Dense</span>)                   │ (<span style=\"color: #00d7ff; text-decoration-color: #00d7ff\">None</span>, <span style=\"color: #00af00; text-decoration-color: #00af00\">1</span>)              │           <span style=\"color: #00af00; text-decoration-color: #00af00\">129</span> │\n",
       "└─────────────────────────────────┴────────────────────────┴───────────────┘\n",
       "</pre>\n"
      ],
      "text/plain": [
       "┏━━━━━━━━━━━━━━━━━━━━━━━━━━━━━━━━━┳━━━━━━━━━━━━━━━━━━━━━━━━┳━━━━━━━━━━━━━━━┓\n",
       "┃\u001b[1m \u001b[0m\u001b[1mLayer (type)                   \u001b[0m\u001b[1m \u001b[0m┃\u001b[1m \u001b[0m\u001b[1mOutput Shape          \u001b[0m\u001b[1m \u001b[0m┃\u001b[1m \u001b[0m\u001b[1m      Param #\u001b[0m\u001b[1m \u001b[0m┃\n",
       "┡━━━━━━━━━━━━━━━━━━━━━━━━━━━━━━━━━╇━━━━━━━━━━━━━━━━━━━━━━━━╇━━━━━━━━━━━━━━━┩\n",
       "│ embedding (\u001b[38;5;33mEmbedding\u001b[0m)           │ (\u001b[38;5;45mNone\u001b[0m, \u001b[38;5;34m500\u001b[0m, \u001b[38;5;34m128\u001b[0m)       │     \u001b[38;5;34m1,280,000\u001b[0m │\n",
       "├─────────────────────────────────┼────────────────────────┼───────────────┤\n",
       "│ simple_rnn (\u001b[38;5;33mSimpleRNN\u001b[0m)          │ (\u001b[38;5;45mNone\u001b[0m, \u001b[38;5;34m128\u001b[0m)            │        \u001b[38;5;34m32,896\u001b[0m │\n",
       "├─────────────────────────────────┼────────────────────────┼───────────────┤\n",
       "│ dense (\u001b[38;5;33mDense\u001b[0m)                   │ (\u001b[38;5;45mNone\u001b[0m, \u001b[38;5;34m1\u001b[0m)              │           \u001b[38;5;34m129\u001b[0m │\n",
       "└─────────────────────────────────┴────────────────────────┴───────────────┘\n"
      ]
     },
     "metadata": {},
     "output_type": "display_data"
    },
    {
     "data": {
      "text/html": [
       "<pre style=\"white-space:pre;overflow-x:auto;line-height:normal;font-family:Menlo,'DejaVu Sans Mono',consolas,'Courier New',monospace\"><span style=\"font-weight: bold\"> Total params: </span><span style=\"color: #00af00; text-decoration-color: #00af00\">1,313,027</span> (5.01 MB)\n",
       "</pre>\n"
      ],
      "text/plain": [
       "\u001b[1m Total params: \u001b[0m\u001b[38;5;34m1,313,027\u001b[0m (5.01 MB)\n"
      ]
     },
     "metadata": {},
     "output_type": "display_data"
    },
    {
     "data": {
      "text/html": [
       "<pre style=\"white-space:pre;overflow-x:auto;line-height:normal;font-family:Menlo,'DejaVu Sans Mono',consolas,'Courier New',monospace\"><span style=\"font-weight: bold\"> Trainable params: </span><span style=\"color: #00af00; text-decoration-color: #00af00\">1,313,025</span> (5.01 MB)\n",
       "</pre>\n"
      ],
      "text/plain": [
       "\u001b[1m Trainable params: \u001b[0m\u001b[38;5;34m1,313,025\u001b[0m (5.01 MB)\n"
      ]
     },
     "metadata": {},
     "output_type": "display_data"
    },
    {
     "data": {
      "text/html": [
       "<pre style=\"white-space:pre;overflow-x:auto;line-height:normal;font-family:Menlo,'DejaVu Sans Mono',consolas,'Courier New',monospace\"><span style=\"font-weight: bold\"> Non-trainable params: </span><span style=\"color: #00af00; text-decoration-color: #00af00\">0</span> (0.00 B)\n",
       "</pre>\n"
      ],
      "text/plain": [
       "\u001b[1m Non-trainable params: \u001b[0m\u001b[38;5;34m0\u001b[0m (0.00 B)\n"
      ]
     },
     "metadata": {},
     "output_type": "display_data"
    },
    {
     "data": {
      "text/html": [
       "<pre style=\"white-space:pre;overflow-x:auto;line-height:normal;font-family:Menlo,'DejaVu Sans Mono',consolas,'Courier New',monospace\"><span style=\"font-weight: bold\"> Optimizer params: </span><span style=\"color: #00af00; text-decoration-color: #00af00\">2</span> (12.00 B)\n",
       "</pre>\n"
      ],
      "text/plain": [
       "\u001b[1m Optimizer params: \u001b[0m\u001b[38;5;34m2\u001b[0m (12.00 B)\n"
      ]
     },
     "metadata": {},
     "output_type": "display_data"
    }
   ],
   "source": [
    "model = load_model('simple_rnn_imdb.h5')\n",
    "model.summary()"
   ]
  },
  {
   "cell_type": "code",
   "execution_count": 11,
   "metadata": {},
   "outputs": [
    {
     "data": {
      "text/plain": [
       "[array([[ 0.00743467,  0.06303322,  0.03780299, ..., -0.03754575,\n",
       "         -0.03981717,  0.09268177],\n",
       "        [ 0.03897374, -0.00125191,  0.05698446, ...,  0.00901629,\n",
       "         -0.00309034,  0.01613166],\n",
       "        [ 0.06058717, -0.00062098,  0.01496765, ..., -0.01073168,\n",
       "         -0.00379921,  0.05658786],\n",
       "        ...,\n",
       "        [ 0.06372859, -0.17079994,  0.13212013, ..., -0.01352457,\n",
       "          0.09404194, -0.07249514],\n",
       "        [-0.03792593, -0.02605059, -0.04821379, ..., -0.04834376,\n",
       "         -0.02756156, -0.02810816],\n",
       "        [-0.02428516, -0.15627305, -0.01303906, ..., -0.02064777,\n",
       "          0.07419486,  0.0333406 ]], dtype=float32),\n",
       " array([[-0.01409948,  0.09821465,  0.05777103, ..., -0.13329868,\n",
       "         -0.1229273 , -0.0312629 ],\n",
       "        [ 0.06257722, -0.17952095, -0.01372132, ..., -0.09518794,\n",
       "          0.19192675, -0.06994745],\n",
       "        [ 0.03558153, -0.09129963,  0.04633041, ..., -0.05272922,\n",
       "         -0.02957461, -0.10846248],\n",
       "        ...,\n",
       "        [-0.07890561,  0.02745344, -0.03999159, ...,  0.09313547,\n",
       "          0.08800457, -0.06360136],\n",
       "        [-0.00673149, -0.00273034, -0.13069099, ..., -0.03464667,\n",
       "         -0.07394852,  0.12303925],\n",
       "        [ 0.06965458, -0.10162429,  0.1224818 , ...,  0.13804694,\n",
       "         -0.06237346,  0.0066013 ]], dtype=float32),\n",
       " array([[ 0.1206519 ,  0.09208297, -0.03421471, ...,  0.17146885,\n",
       "          0.0707506 ,  0.15669885],\n",
       "        [-0.03090118, -0.01010966, -0.04559204, ...,  0.05780857,\n",
       "          0.00125766, -0.18600892],\n",
       "        [ 0.0674938 , -0.02284224,  0.10681695, ..., -0.11566161,\n",
       "          0.03430694, -0.03542913],\n",
       "        ...,\n",
       "        [-0.12777776, -0.07015265,  0.0582226 , ..., -0.07462753,\n",
       "          0.15527588, -0.1081775 ],\n",
       "        [ 0.01068217,  0.09927413, -0.09324617, ..., -0.04623337,\n",
       "         -0.08994158, -0.05295666],\n",
       "        [-0.03205695,  0.05289008,  0.02475698, ...,  0.03294089,\n",
       "         -0.20059784, -0.12112686]], dtype=float32),\n",
       " array([-0.02335816,  0.01343902,  0.00240771,  0.02639874, -0.01533006,\n",
       "         0.01551153, -0.00718527,  0.02614343,  0.00320258, -0.0273745 ,\n",
       "        -0.02326035,  0.00210513, -0.01611615,  0.01016838, -0.0098226 ,\n",
       "        -0.02719475,  0.04139897,  0.01978439,  0.01118626, -0.01973037,\n",
       "         0.01398295, -0.00328608, -0.01331868, -0.01517443, -0.01594945,\n",
       "         0.00656881,  0.01582089,  0.00490685, -0.00469374,  0.03037957,\n",
       "        -0.00594306, -0.02220295, -0.00983594, -0.0097658 , -0.01539694,\n",
       "        -0.00906906, -0.01136558,  0.02550869,  0.00661494, -0.01130732,\n",
       "        -0.00330447,  0.03860577,  0.00346958, -0.01182349, -0.02330769,\n",
       "        -0.01057549, -0.01252945, -0.01935185, -0.03314577, -0.00384713,\n",
       "        -0.01943303,  0.0056799 , -0.01225608,  0.00617519, -0.00900389,\n",
       "        -0.00244874,  0.01066327,  0.00357791, -0.02706057,  0.00942647,\n",
       "         0.00584531, -0.00966767,  0.01847407,  0.00883498,  0.0016061 ,\n",
       "         0.0193649 , -0.0063616 , -0.01002427, -0.0170034 , -0.00471109,\n",
       "        -0.00065557,  0.02117103, -0.01712409, -0.00407002, -0.01616354,\n",
       "        -0.00541949,  0.10125665,  0.0130204 , -0.00763372,  0.02545097,\n",
       "        -0.00391451, -0.03594761,  0.00476538,  0.01211573, -0.01148466,\n",
       "        -0.02386243,  0.01717753,  0.0266076 , -0.0034608 , -0.0031164 ,\n",
       "        -0.00607006, -0.02556338, -0.02163309, -0.00023881, -0.0182167 ,\n",
       "         0.0185863 , -0.00526622,  0.01812724,  0.00232717, -0.0244025 ,\n",
       "        -0.00383088,  0.01168253, -0.00877835, -0.01438223, -0.0218189 ,\n",
       "        -0.01552861,  0.01639258, -0.02326065, -0.01154728, -0.00095095,\n",
       "        -0.02478377,  0.01592788,  0.01313271,  0.01540577, -0.01503409,\n",
       "         0.00306673,  0.00678551, -0.0130606 ,  0.01762915, -0.00808024,\n",
       "        -0.00404223,  0.00262227, -0.00550079, -0.01445211,  0.00533536,\n",
       "        -0.02412622, -0.02192293, -0.02553124], dtype=float32),\n",
       " array([[-0.14612797],\n",
       "        [ 0.20796049],\n",
       "        [ 0.06800611],\n",
       "        [ 0.26337236],\n",
       "        [-0.03908855],\n",
       "        [ 0.1701425 ],\n",
       "        [ 0.58900166],\n",
       "        [-0.01582123],\n",
       "        [ 0.17213874],\n",
       "        [ 0.2507038 ],\n",
       "        [ 0.06804599],\n",
       "        [-0.00770676],\n",
       "        [ 0.14679036],\n",
       "        [ 0.572367  ],\n",
       "        [ 0.289406  ],\n",
       "        [ 0.08598826],\n",
       "        [-0.00944962],\n",
       "        [-0.11740491],\n",
       "        [ 0.15718137],\n",
       "        [-0.0140411 ],\n",
       "        [ 0.2862735 ],\n",
       "        [-0.04333262],\n",
       "        [ 0.04936492],\n",
       "        [ 0.03062849],\n",
       "        [-0.22655348],\n",
       "        [ 0.02724291],\n",
       "        [ 0.09408054],\n",
       "        [-0.4515491 ],\n",
       "        [ 0.14636746],\n",
       "        [-0.23686004],\n",
       "        [-0.06641629],\n",
       "        [ 0.05878053],\n",
       "        [ 0.05150512],\n",
       "        [-0.8313793 ],\n",
       "        [-0.00447761],\n",
       "        [ 0.11657732],\n",
       "        [-0.01243728],\n",
       "        [ 0.6884662 ],\n",
       "        [-0.21216564],\n",
       "        [ 0.13990799],\n",
       "        [ 0.5256301 ],\n",
       "        [-0.04041766],\n",
       "        [-0.4537903 ],\n",
       "        [-0.6697797 ],\n",
       "        [ 0.02588249],\n",
       "        [ 0.33250466],\n",
       "        [-0.11803025],\n",
       "        [ 0.5070648 ],\n",
       "        [-0.16779506],\n",
       "        [ 0.16598292],\n",
       "        [-0.11772607],\n",
       "        [-0.22498566],\n",
       "        [ 0.18390612],\n",
       "        [ 0.05668844],\n",
       "        [ 0.94933045],\n",
       "        [ 0.19646326],\n",
       "        [-1.1617818 ],\n",
       "        [ 0.11626355],\n",
       "        [-0.38623834],\n",
       "        [ 0.04269698],\n",
       "        [ 0.06707475],\n",
       "        [-0.06198475],\n",
       "        [-0.30805048],\n",
       "        [-0.62640643],\n",
       "        [ 0.03633191],\n",
       "        [-0.62629724],\n",
       "        [ 0.07156014],\n",
       "        [ 0.40131843],\n",
       "        [-0.04442145],\n",
       "        [ 0.35777754],\n",
       "        [-0.10362401],\n",
       "        [-0.00190766],\n",
       "        [ 0.01092694],\n",
       "        [ 0.04531616],\n",
       "        [-0.7145769 ],\n",
       "        [ 0.16175087],\n",
       "        [ 0.20327665],\n",
       "        [ 0.29757816],\n",
       "        [ 0.15063308],\n",
       "        [ 0.1304739 ],\n",
       "        [ 0.15902553],\n",
       "        [-0.1212444 ],\n",
       "        [-0.10760385],\n",
       "        [ 0.6667495 ],\n",
       "        [-0.4142917 ],\n",
       "        [ 0.00142879],\n",
       "        [ 0.03468551],\n",
       "        [-0.07623357],\n",
       "        [ 0.10339575],\n",
       "        [-0.03743839],\n",
       "        [-0.01417035],\n",
       "        [ 0.05686466],\n",
       "        [-0.05778114],\n",
       "        [-0.09974965],\n",
       "        [ 0.2608161 ],\n",
       "        [ 0.18820247],\n",
       "        [ 0.16196513],\n",
       "        [-0.01449255],\n",
       "        [ 0.09174611],\n",
       "        [ 0.83597046],\n",
       "        [ 0.04815321],\n",
       "        [ 1.3778937 ],\n",
       "        [ 0.12171057],\n",
       "        [-0.08053606],\n",
       "        [ 0.17853981],\n",
       "        [ 0.12491138],\n",
       "        [-0.11233044],\n",
       "        [ 0.01004852],\n",
       "        [ 0.10172319],\n",
       "        [-0.05420807],\n",
       "        [ 0.13563192],\n",
       "        [-0.402771  ],\n",
       "        [ 0.9232272 ],\n",
       "        [-0.20632173],\n",
       "        [ 0.53367215],\n",
       "        [ 0.03352137],\n",
       "        [ 0.1964801 ],\n",
       "        [ 0.2116216 ],\n",
       "        [ 0.01647962],\n",
       "        [-0.19598289],\n",
       "        [ 0.21520747],\n",
       "        [ 0.129187  ],\n",
       "        [ 0.2668836 ],\n",
       "        [-0.18159081],\n",
       "        [ 0.1856849 ],\n",
       "        [ 0.05030971],\n",
       "        [-1.1536833 ],\n",
       "        [-0.09692752]], dtype=float32),\n",
       " array([0.8177331], dtype=float32)]"
      ]
     },
     "execution_count": 11,
     "metadata": {},
     "output_type": "execute_result"
    }
   ],
   "source": [
    "model.get_weights()"
   ]
  },
  {
   "cell_type": "code",
   "execution_count": 12,
   "metadata": {},
   "outputs": [],
   "source": [
    "# Helper Functions\n",
    "#Funtions to decode reviews\n",
    "\n",
    "def decode_review(encoded_review):\n",
    "    return ' '.join([reverse_word_index.get(i-3, '?') for i in encoded_review])\n",
    "\n",
    "#function to proces user input\n",
    "def preprocess_text(text):\n",
    "    words = text.lower().split()\n",
    "    encoded_review = [word_index.get(word, 2) + 3 for word in words]\n",
    "    padded_review = sequence.pad_sequences([encoded_review], maxlen = 500)\n",
    "    return padded_review"
   ]
  },
  {
   "cell_type": "code",
   "execution_count": 20,
   "metadata": {},
   "outputs": [],
   "source": [
    "#Prediction function\n",
    "\n",
    "def predict_sentiment(review):\n",
    "    preprocessed_input = preprocess_text(review)\n",
    "    print(f'Preprocessed input: {preprocessed_input}')  # Debugging step\n",
    "    prediction = model.predict(preprocessed_input)\n",
    "    print(f'Raw prediction: {prediction}')  # Debugging\n",
    "    sentiment = 'Positive' if prediction[0][0] > 0.5 else 'negative'\n",
    "    \n",
    "    return sentiment, prediction[0][0]\n",
    "    "
   ]
  },
  {
   "cell_type": "code",
   "execution_count": 21,
   "metadata": {},
   "outputs": [
    {
     "name": "stdout",
     "output_type": "stream",
     "text": [
      "Preprocessed input: [[  0   0   0   0   0   0   0   0   0   0   0   0   0   0   0   0   0   0\n",
      "    0   0   0   0   0   0   0   0   0   0   0   0   0   0   0   0   0   0\n",
      "    0   0   0   0   0   0   0   0   0   0   0   0   0   0   0   0   0   0\n",
      "    0   0   0   0   0   0   0   0   0   0   0   0   0   0   0   0   0   0\n",
      "    0   0   0   0   0   0   0   0   0   0   0   0   0   0   0   0   0   0\n",
      "    0   0   0   0   0   0   0   0   0   0   0   0   0   0   0   0   0   0\n",
      "    0   0   0   0   0   0   0   0   0   0   0   0   0   0   0   0   0   0\n",
      "    0   0   0   0   0   0   0   0   0   0   0   0   0   0   0   0   0   0\n",
      "    0   0   0   0   0   0   0   0   0   0   0   0   0   0   0   0   0   0\n",
      "    0   0   0   0   0   0   0   0   0   0   0   0   0   0   0   0   0   0\n",
      "    0   0   0   0   0   0   0   0   0   0   0   0   0   0   0   0   0   0\n",
      "    0   0   0   0   0   0   0   0   0   0   0   0   0   0   0   0   0   0\n",
      "    0   0   0   0   0   0   0   0   0   0   0   0   0   0   0   0   0   0\n",
      "    0   0   0   0   0   0   0   0   0   0   0   0   0   0   0   0   0   0\n",
      "    0   0   0   0   0   0   0   0   0   0   0   0   0   0   0   0   0   0\n",
      "    0   0   0   0   0   0   0   0   0   0   0   0   0   0   0   0   0   0\n",
      "    0   0   0   0   0   0   0   0   0   0   0   0   0   0   0   0   0   0\n",
      "    0   0   0   0   0   0   0   0   0   0   0   0   0   0   0   0   0   0\n",
      "    0   0   0   0   0   0   0   0   0   0   0   0   0   0   0   0   0   0\n",
      "    0   0   0   0   0   0   0   0   0   0   0   0   0   0   0   0   0   0\n",
      "    0   0   0   0   0   0   0   0   0   0   0   0   0   0   0   0   0   0\n",
      "    0   0   0   0   0   0   0   0   0   0   0   0   0   0   0   0   0   0\n",
      "    0   0   0   0   0   0   0   0   0   0   0   0   0   0   0   0   0   0\n",
      "    0   0   0   0   0   0   0   0   0   0   0   0   0   0   0   0   0   0\n",
      "    0   0   0   0   0   0   0   0   0   0   0   0   0   0   0   0   0   0\n",
      "    0   0   0   0   0   0   0   0   0   0   0   0   0   0   0   0   0   0\n",
      "    0   0   0   0   0   0   0   0   0   0   0   0   0   0   0   0   0   0\n",
      "    0  14  20  16   5   4 116  16  87   5   4 114  16   5]]\n",
      "\u001b[1m1/1\u001b[0m \u001b[32m━━━━━━━━━━━━━━━━━━━━\u001b[0m\u001b[37m\u001b[0m \u001b[1m0s\u001b[0m 35ms/step\n",
      "Raw prediction: [[0.0955873]]\n",
      "Review: This movie was fantastic! The acting was great and the plot was thrilling.\n",
      "Sentiment: negative\n",
      "Score: 0.09558729827404022\n"
     ]
    }
   ],
   "source": [
    "# Take user input and predicttion\n",
    "# Example review for prediction\n",
    "\n",
    "example_review = \"This movie was fantastic! The acting was great and the plot was thrilling.\"\n",
    "\n",
    "sentiment, score = predict_sentiment(example_review)\n",
    "\n",
    "print(f'Review: {example_review}')\n",
    "print(f'Sentiment: {sentiment}')\n",
    "print(f'Score: {score}')"
   ]
  }
 ],
 "metadata": {
  "kernelspec": {
   "display_name": "base",
   "language": "python",
   "name": "python3"
  },
  "language_info": {
   "codemirror_mode": {
    "name": "ipython",
    "version": 3
   },
   "file_extension": ".py",
   "mimetype": "text/x-python",
   "name": "python",
   "nbconvert_exporter": "python",
   "pygments_lexer": "ipython3",
   "version": "3.12.3"
  }
 },
 "nbformat": 4,
 "nbformat_minor": 2
}
